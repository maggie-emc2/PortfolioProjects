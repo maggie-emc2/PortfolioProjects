{
  "metadata": {
    "kernelspec": {
      "name": "python",
      "display_name": "Python (Pyodide)",
      "language": "python"
    },
    "language_info": {
      "codemirror_mode": {
        "name": "python",
        "version": 3
      },
      "file_extension": ".py",
      "mimetype": "text/x-python",
      "name": "python",
      "nbconvert_exporter": "python",
      "pygments_lexer": "ipython3",
      "version": "3.8"
    }
  },
  "nbformat_minor": 4,
  "nbformat": 4,
  "cells": [
    {
      "cell_type": "markdown",
      "source": "# Eigenvalue equations\n\n#### Excercise 1\n Write a program that uses the [QR algorithm][1] to find the eigenvlues of a $4\\times4$ matrix $A$, with random elements but known eignevalues. You can create such a matrix by $A=SDS^{-1}$, where $D$ is a diagonal matrix with the expected eigenvalues on the diagonal, and $S$ is any random matrix of the same size.\n\nStop the QR algorithm iteration process when the element in the lower left corner become extremely small, $|A_{3,0}| <10^{-300}$ Note that it is unlikely the upper triangluar part of the matrix will be zero. \n\n- Print out the oringal and finished matrix $A$\n- Verify the diagonal of $A$ has the same elements that are found with [`numpy.linalg.eig`][2]. Use  [`numpy.diagonal`][3] to view only the diagonal of $A.\n\n\n\n[1]: https://en.wikipedia.org/wiki/QR_algorithm\n[2]: https://docs.scipy.org/doc/scipy-0.18.1/reference/generated/scipy.linalg.eig.html\n[3]: https://numpy.org/doc/stable/reference/generated/numpy.diagonal.html",
      "metadata": {}
    },
    {
      "cell_type": "markdown",
      "source": "<div class=\"alert alert-block alert-info\">\n<b>Tip:</b> Note that the results may not come out in the same order, but you should expect that the eigenvectors should match their respective eigenvalues.\n</div>",
      "metadata": {}
    },
    {
      "cell_type": "code",
      "source": "import numpy \nimport scipy.linalg\n\n\n\nA = numpy.random.rand(4,4)\nprint(A)\n\nd,P = scipy.linalg.eig(A)\nD = numpy.dot(scipy.linalg.inv(P),numpy.dot(A,P))\n\n\nprint(f\"Eigenvalues of A are : {d}\")\nprint(f\"Diagonal of P_inv: {numpy.diagonal(D)}\")\n\n\nD4 = numpy.power(D,4)\nA4 = numpy.dot(P,numpy.dot(D4,scipy.linalg.inv(P)))\nA4 = numpy.linalg.matrix_power(A,4)\n\nprint(A4)",
      "metadata": {},
      "execution_count": 14,
      "outputs": [
        {
          "name": "stdout",
          "output_type": "stream",
          "text": "[[0.8462836  0.09960822 0.15483009 0.20173911]\n\n [0.05119221 0.64273684 0.27159681 0.41192032]\n\n [0.22285865 0.9519866  0.88535879 0.15042772]\n\n [0.82037129 0.42148904 0.57193991 0.55984442]]\n\nEigenvalues of A are : [1.75695945+0.j         0.76759864+0.j         0.20483278+0.20832639j\n\n 0.20483278-0.20832639j]\n\nDiagonal of P_inv: [1.75695945+2.04472070e-32j 0.76759864+3.25908152e-32j\n\n 0.20483278+2.08326391e-01j 0.20483278-2.08326391e-01j]\n\n[[1.71192532 1.70123825 1.47810081 1.05442651]\n\n [1.92041967 2.53754666 2.10450804 1.46465611]\n\n [2.74683435 4.05528207 3.29500097 2.2806248 ]\n\n [3.29602289 3.94153352 3.31191348 2.31712149]]\n"
        }
      ]
    },
    {
      "cell_type": "markdown",
      "source": "<font color=\"blue\">Answer:</font>",
      "metadata": {}
    },
    {
      "cell_type": "markdown",
      "source": "#### Excercise 2\n\nThe `scipy` functions for solving eigenvalue problems are `scipy.linalg.eig` and `scipy.linalg.eigh`.\n\nWhat is the difference between these functions? Provide a definition for all terms.",
      "metadata": {}
    },
    {
      "cell_type": "markdown",
      "source": "<font color=\"blue\">Answer: <font>\n    \n    - scipy.linalg.eigh guarantees you that the eigenvalues are sorted and uses a faster algorithm \n    that takes advantage of the fact that the matrix is symmetric. \n    If you know that your matrix is symmetric, use this function.\n\n    - escipy.linalg.eigh doesn't check if your matrix is indeed symmetric, it by default just takes \n    the lower triangular part of the matrix and assumes that the upper triangular part is defined \n    by the symmetry of the matrix.\n\n    - scipy.linalg.eig works for general matrices and therefore uses a slower algorithm. \n    If you test with larger matrices, you will also see that in general \n    the eigenvalues are not sorted here.",
      "metadata": {}
    },
    {
      "cell_type": "markdown",
      "source": "#### Excercise 3\nUse specifically the `scipy.linalg.eigh` function to find the eigenvaleus and eignevectors of the matrix\n$$\\begin{bmatrix}\n1 & 0 \\\\\n2 & 1\n\\end{bmatrix}$$\nDid you get the same or different results from the lecture example 2? Is that correct? Why is that?",
      "metadata": {}
    },
    {
      "cell_type": "code",
      "source": "A = numpy.array([[1,0],[2,1]],dtype=float)\nY,V = scipy.linalg.eigh(A)\nprint(Y)\nprint(V)",
      "metadata": {},
      "execution_count": 19,
      "outputs": [
        {
          "name": "stdout",
          "output_type": "stream",
          "text": "[-1.  3.]\n\n[[-0.70710678  0.70710678]\n\n [ 0.70710678  0.70710678]]\n"
        }
      ]
    },
    {
      "cell_type": "markdown",
      "source": "<font color=\"blue\"> Answer: </font> ",
      "metadata": {}
    },
    {
      "cell_type": "markdown",
      "source": "#### Excercise 4\nUse and eigenproblem solver to find the eigenvalues of the matrix\n$$\\begin{bmatrix}\n-2 & +2 & -3\\\\\n+2 & +1 & -6\\\\\n-1 & -2 & +0\n\\end{bmatrix}$$\nVerify you get the eigenvalues $\\lambda=-3,-3,$ and $5$. \n\n- Verify that the eigenvector for $\\lambda=5$ is proportional to\n$$\n\\frac{1}{\\sqrt{6}}\\left[\n\\begin{array}{}+1\\\\+2\\\\-1\\end{array}\n\\right]\n$$\n\nThe eigenvalue $-3$ corresponds to a double root. This means that the corresponding eigenvectors are degenerate, which in turn means that they are not unique. Here are two linearly independent ones:\n$$\n\\frac{1}{\\sqrt{5}}\\left[\n\\begin{array}{}+2\\\\-1\\\\+0\\end{array}\n\\right], \\ \\ \n\\frac{1}{\\sqrt{10}}\\left[\n\\begin{array}{}-3\\\\+0\\\\-1\\end{array}\n\\right]\n$$\nIn this case it’s not clear what the `scipy.linalg.eig` solver will give for these eigenvectors, it probably won't be these.\n\n- Try to find a relationship between *your* computed eigenvectors for the eigenvalues of $−3$ and these two linearly independent ones provided above.\n    ",
      "metadata": {}
    },
    {
      "cell_type": "code",
      "source": "A = numpy.array([[-2,2,-3],\n                 [2,1,-6],\n                 [-1,-2,0]],dtype=float)\n\nY,V = numpy.linalg.eig(A)\nprint(Y)\nprint(V)",
      "metadata": {},
      "execution_count": 22,
      "outputs": [
        {
          "name": "stdout",
          "output_type": "stream",
          "text": "[-3.  5. -3.]\n\n[[-0.95257934  0.40824829 -0.02296692]\n\n [ 0.27216553  0.81649658  0.83534731]\n\n [-0.13608276 -0.40824829  0.54924256]]\n"
        }
      ]
    },
    {
      "cell_type": "code",
      "source": "",
      "metadata": {},
      "execution_count": null,
      "outputs": []
    },
    {
      "cell_type": "markdown",
      "source": "#### Excercise 5\nThe kinetc energy of an object rotating about the angular velocity vector $\\vec{\\omega}$ is $K=\\frac{1}{2}\\vec{\\omega}\\pmb{I}\\vec{\\omega}$, where $\\pmb{I}$ is the inertia tensor. For a solid cube of mass $m$ and side $s$, whose geometric center is the at the origin of space, \n$$\n\\pmb{I} = \\frac{Ms^2}{6}\\begin{bmatrix}\n1 & 0 & 0\\\\\n0 & 1 & 0\\\\\n0 & 0 & 1\n\\end{bmatrix}\n$$\nand it will rotate easily about any of its principle axes parallel to its sides. ($\\pmb{I}$ is already diagonal!)\n\nIf we shift the point of rotation to a corner of the cube by moving the cube $\\vec{a}=(-s/2, -s/2, -s/2)$, then the inertia tensor is \n$$\nI'_{ij} = I_{ij}+M\\left[\\delta_{ij}a^2-a_ia_j\\right]\n$$\n\n- Write down the new inertia tensor using $\\LaTeX$ in a Markdown cell.\n    \nThis inertia tensor is not diagonal anymore, so if you start the cube rotating about a corner, and if the axis of rotation is one of the edges of the cube, it will tumble out of control along its new principle axes of rotation. For any rotating mechanical part, it is important that it rotate about a principal axis, otherwise it will exert a torque and cause vibrations.\n\n- Find the principle axes of rotation as the eigenvectors of $\\pmb{I}'$.\n- Verify that any two eigenvectors are orthogonal, and are normal.",
      "metadata": {}
    },
    {
      "cell_type": "markdown",
      "source": "<font color=\"blue\">Answer: <font>",
      "metadata": {}
    },
    {
      "cell_type": "code",
      "source": "I=numpy.array([[1,0,0],\n              [0,1,0],\n              [0,0,1]],dtype=float)\nY,V= scipy.linalg.eigh(I)\nprint(Y)\nprint(V)",
      "metadata": {},
      "execution_count": 23,
      "outputs": [
        {
          "name": "stdout",
          "output_type": "stream",
          "text": "[1. 1. 1.]\n\n[[1. 0. 0.]\n\n [0. 1. 0.]\n\n [0. 0. 1.]]\n"
        }
      ]
    },
    {
      "cell_type": "code",
      "source": "",
      "metadata": {},
      "execution_count": null,
      "outputs": []
    },
    {
      "cell_type": "code",
      "source": "",
      "metadata": {},
      "execution_count": null,
      "outputs": []
    }
  ]
}